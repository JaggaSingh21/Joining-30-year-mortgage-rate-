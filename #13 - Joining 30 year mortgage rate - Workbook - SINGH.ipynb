{
 "cells": [
  {
   "cell_type": "markdown",
   "metadata": {},
   "source": [
    "# JAGWINDER SINGH"
   ]
  },
  {
   "cell_type": "markdown",
   "metadata": {},
   "source": [
    "## Complete the notebook\n",
    "(version 08/05/2020)"
   ]
  },
  {
   "cell_type": "markdown",
   "metadata": {},
   "source": [
    "## Joining 30 year mortgage rate"
   ]
  },
  {
   "cell_type": "markdown",
   "metadata": {
    "scrolled": false
   },
   "source": [
    "### Explain what is a 30 Year Mortgage Rate and why is it important to the Project?  \n",
    "the mortgage rate is for the loan on a house. its important to this project because we have to figure out the correlation between the mortgage rate and house price index."
   ]
  },
  {
   "cell_type": "markdown",
   "metadata": {},
   "source": [
    "1) Enter all imports needed & code to read the Quandl API key from a text file (quandlapikey.txt) and place it into a variable:"
   ]
  },
  {
   "cell_type": "code",
   "execution_count": null,
   "metadata": {
    "scrolled": false
   },
   "outputs": [],
   "source": [
    "import quandl\n",
    "import pandas as pd\n",
    "import matplotlib.pyplot as plt\n",
    "from matplotlib import style\n",
    "\n",
    "api_key = open('quandlapikey.txt','r').read()"
   ]
  },
  {
   "cell_type": "markdown",
   "metadata": {},
   "source": [
    "### Loading data (30 Year Mortgage Rate)"
   ]
  },
  {
   "cell_type": "markdown",
   "metadata": {},
   "source": [
    "2) Download the 30 year mortgage rate data into a dataframe starting on January 1st 1975.  \n",
    "Print head, tail and plot (show legend)"
   ]
  },
  {
   "cell_type": "code",
   "execution_count": null,
   "metadata": {},
   "outputs": [],
   "source": [
    "M30_df = quandl.get(\"FMAC/MORTG\", trim_start=\"1975-01-01\", authtoken=api_key)\n",
    "\n",
    "print(M30_df.head())\n",
    "print(M30_df.tail())\n",
    "    \n",
    "\n",
    "M30_df['Value'].plot()\n",
    "plt.legend()\n",
    "plt.show()"
   ]
  },
  {
   "cell_type": "markdown",
   "metadata": {},
   "source": [
    "3) Adjust the date to the end of the month.  \n",
    "Print head, tail and plot (show legend)"
   ]
  },
  {
   "cell_type": "code",
   "execution_count": null,
   "metadata": {},
   "outputs": [],
   "source": [
    "M30_df = M30_df.resample('M').mean()\n",
    "\n",
    "print(M30_df.head())\n",
    "print(M30_df.tail())\n",
    "\n",
    "M30_df['Value'].plot()\n",
    "plt.legend()\n",
    "plt.show()"
   ]
  },
  {
   "cell_type": "markdown",
   "metadata": {},
   "source": [
    "4) Pickle the 30 Year Mortgage Rate Dataframe"
   ]
  },
  {
   "cell_type": "code",
   "execution_count": null,
   "metadata": {},
   "outputs": [],
   "source": [
    "M30_df.to_pickle ('M30_df.pickle')"
   ]
  },
  {
   "cell_type": "markdown",
   "metadata": {},
   "source": [
    "### Load data (States HPI)"
   ]
  },
  {
   "cell_type": "markdown",
   "metadata": {},
   "source": [
    "5) From a previous workbook, upload to a Dataframe the States HPI data (fifty_states_HPI_raw_data.pickle).  \n",
    "*If you do not have the file, write the code to bulk download the 50 US state HPI into a dataframe and pickle.  \n",
    "Print head, tail and plot (do not show legend)"
   ]
  },
  {
   "cell_type": "code",
   "execution_count": null,
   "metadata": {},
   "outputs": [],
   "source": [
    "fifty_states_abbv = pd.read_html('https://www.infoplease.com/us/postal-information/state-abbreviations-and-state-postal-codes')\n",
    "fifty_states_abbv = fifty_states_abbv[0]['Postal Code']\n",
    "    \n",
    "\n",
    "fifty_states_HPI_raw_data = pd.DataFrame()\n",
    "\n",
    "\n",
    "for abbv in fifty_states_abbv:\n",
    "    query = \"FMAC/HPI_\"+str(abbv)\n",
    "    df = quandl.get(query, authtoken=api_key)\n",
    "    df = df[['NSA Value']]\n",
    "    df.rename(columns={'NSA Value':abbv}, inplace=True)\n",
    "    if fifty_states_HPI_raw_data.empty:\n",
    "        fifty_states_HPI_raw_data = df\n",
    "    else:\n",
    "        fifty_states_HPI_raw_data = fifty_states_HPI_raw_data.join(df)\n",
    "    \n",
    "\n",
    "fifty_states_HPI_raw_data.to_pickle ('fifty_states_HPI_raw_data.pickle')\n",
    "\n",
    "print(fifty_states_HPI_raw_data.head())\n",
    "print(fifty_states_HPI_raw_data.tail())\n",
    "\n",
    "fifty_states_HPI_raw_data.plot()\n",
    "plt.legend().remove()\n",
    "plt.show()"
   ]
  },
  {
   "cell_type": "markdown",
   "metadata": {},
   "source": [
    "### Load data (USA HPI)"
   ]
  },
  {
   "cell_type": "markdown",
   "metadata": {},
   "source": [
    "6)From a previous workbook, upload to a Dataframe the USA HPI (USA_HPI_raw_data.pickle).  \n",
    "*If you do not have the file, write the code to download the USA HPI into a dataframe and pickle.  \n",
    "Print head, tail and plot (show legend)"
   ]
  },
  {
   "cell_type": "code",
   "execution_count": null,
   "metadata": {},
   "outputs": [],
   "source": [
    "USA_HPI_raw_data = quandl.get(\"FMAC/HPI_USA\", authtoken=api_key) \n",
    "USA_HPI_raw_data = USA_HPI_raw_data[['NSA Value']]\n",
    "USA_HPI_raw_data.rename(columns={'NSA Value':'HPI_USA'}, inplace=True)\n",
    "\n",
    "USA_HPI_raw_data.to_pickle ('USA_HPI_raw_data.pickle')\n",
    "\n",
    "print(USA_HPI_raw_data.head())\n",
    "print(USA_HPI_raw_data.tail())\n",
    "\n",
    "USA_HPI_raw_data.plot()\n",
    "plt.legend().remove()\n",
    "plt.show()"
   ]
  },
  {
   "cell_type": "markdown",
   "metadata": {},
   "source": [
    "### Combine all DataFrames (States HPI, USA HPI, 30 Year Mortgage Rate)"
   ]
  },
  {
   "cell_type": "markdown",
   "metadata": {},
   "source": [
    "7) Combine the US states HPI, the USA HPI and the 30 Year Mortgage Rate into one DataFrame.  \n",
    "Print head, tail and plot (do not show legend)"
   ]
  },
  {
   "cell_type": "code",
   "execution_count": null,
   "metadata": {},
   "outputs": [],
   "source": [
    "USA_HPI_M30_data = USA_HPI_raw_data.join(M30_df)\n",
    "States_USA_HPI_M30_data = fifty_states_HPI_raw_data.join(USA_HPI_M30_data)\n",
    "\n",
    "print(States_USA_HPI_M30_data.head())\n",
    "print(States_USA_HPI_M30_data.tail())\n",
    "\n",
    "States_USA_HPI_M30_data.plot()\n",
    "plt.legend().remove()\n",
    "plt.show()"
   ]
  },
  {
   "cell_type": "markdown",
   "metadata": {},
   "source": [
    "8) Print the head and plot only the USA HPI and the 30 Year Mortgage Rate (include legend)"
   ]
  },
  {
   "cell_type": "code",
   "execution_count": null,
   "metadata": {},
   "outputs": [],
   "source": [
    "print(States_USA_HPI_M30_data[['HPI_USA','Value']].head())\n",
    "\n",
    "States_USA_HPI_M30_data[['HPI_USA','Value']].plot()\n",
    "plt.legend()\n",
    "plt.show()"
   ]
  },
  {
   "cell_type": "markdown",
   "metadata": {},
   "source": [
    "### Correlation"
   ]
  },
  {
   "cell_type": "markdown",
   "metadata": {},
   "source": [
    "9) In a new DataFrame, combine the USA HPI and the 30 Year Mortgage Rate.  \n",
    "Print head, tail and plot (show legend)"
   ]
  },
  {
   "cell_type": "code",
   "execution_count": null,
   "metadata": {},
   "outputs": [],
   "source": [
    "USA_HPI_M30_data = USA_HPI_raw_data.join(M30_df)\n",
    "\n",
    "print(USA_HPI_M30_data.head())\n",
    "print(USA_HPI_M30_data.tail())\n",
    "\n",
    "USA_HPI_M30_data .plot()\n",
    "plt.legend()\n",
    "plt.show()"
   ]
  },
  {
   "cell_type": "markdown",
   "metadata": {},
   "source": [
    "10) Create and display a correlation table between the USA HPI and the 30 year mortgage rate"
   ]
  },
  {
   "cell_type": "code",
   "execution_count": null,
   "metadata": {},
   "outputs": [],
   "source": [
    "print(USA_HPI_M30_data.corr())"
   ]
  },
  {
   "cell_type": "markdown",
   "metadata": {},
   "source": [
    "11) In a new DataFrame, combine the State HPI and the 30 Year Mortgage Rate.  \n",
    "Print head, tail and plot (do not show legend)"
   ]
  },
  {
   "cell_type": "code",
   "execution_count": null,
   "metadata": {},
   "outputs": [],
   "source": [
    "States_HPI_M30_data = fifty_states_HPI_raw_data.join(M30_df)\n",
    "print(States_HPI_M30_data.head())\n",
    "print(States_HPI_M30_data.tail())\n",
    "\n",
    "States_HPI_M30_data.plot()\n",
    "plt.legend().remove()\n",
    "plt.show()"
   ]
  },
  {
   "cell_type": "markdown",
   "metadata": {},
   "source": [
    "12) Create and display a correlation table between the States HPI and the 30 year mortgage rate"
   ]
  },
  {
   "cell_type": "code",
   "execution_count": null,
   "metadata": {},
   "outputs": [],
   "source": [
    "print(States_HPI_M30_data.corr())"
   ]
  },
  {
   "cell_type": "markdown",
   "metadata": {},
   "source": [
    "### Description of specific data sets"
   ]
  },
  {
   "cell_type": "markdown",
   "metadata": {},
   "source": [
    "13) Display the data description for the USA HPI raw data set"
   ]
  },
  {
   "cell_type": "code",
   "execution_count": null,
   "metadata": {},
   "outputs": [],
   "source": [
    "print(USA_HPI_raw_data.describe())"
   ]
  },
  {
   "cell_type": "markdown",
   "metadata": {},
   "source": [
    "14) Display the data description for the 30 year mortgage rate raw data set"
   ]
  },
  {
   "cell_type": "code",
   "execution_count": null,
   "metadata": {},
   "outputs": [],
   "source": [
    "print(M30_df.describe())"
   ]
  }
 ],
 "metadata": {
  "kernelspec": {
   "display_name": "Python 3",
   "language": "python",
   "name": "python3"
  },
  "language_info": {
   "codemirror_mode": {
    "name": "ipython",
    "version": 3
   },
   "file_extension": ".py",
   "mimetype": "text/x-python",
   "name": "python",
   "nbconvert_exporter": "python",
   "pygments_lexer": "ipython3",
   "version": "3.8.5"
  }
 },
 "nbformat": 4,
 "nbformat_minor": 2
}
